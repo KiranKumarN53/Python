{
 "cells": [
  {
   "cell_type": "markdown",
   "metadata": {},
   "source": [
    "# Iterating over rows and columns in Pandas DataFrame"
   ]
  },
  {
   "cell_type": "markdown",
   "metadata": {},
   "source": [
    "### There are two type\n",
    "#### 1.Iterating over rows\n",
    "#### 2.Iterating over columns"
   ]
  },
  {
   "cell_type": "markdown",
   "metadata": {},
   "source": [
    "Iterating over rows :\n",
    "  1.iteritems()\n",
    "  2.iterrows()\n",
    "  3.itertuples()"
   ]
  },
  {
   "cell_type": "code",
   "execution_count": 3,
   "metadata": {},
   "outputs": [],
   "source": [
    "import pandas as pd"
   ]
  },
  {
   "cell_type": "code",
   "execution_count": 1,
   "metadata": {},
   "outputs": [],
   "source": [
    "data={\"name\": [\"kiran\",\"karthi\",\"imam\",\"pawan\",\"maruthi\"],\n",
    "     \"state\": [\"karnataka\",\"AP\",\"UP\",\"Delhi\",\"tamil\"],\n",
    "     \"city\": [\"bangalore\",\"vizag\",\"manipur\",\"New Delhi\",\"chennai\"]}"
   ]
  },
  {
   "cell_type": "code",
   "execution_count": 5,
   "metadata": {},
   "outputs": [],
   "source": [
    "df=pd.DataFrame(data)"
   ]
  },
  {
   "cell_type": "code",
   "execution_count": 6,
   "metadata": {},
   "outputs": [
    {
     "data": {
      "text/html": [
       "<div>\n",
       "<style scoped>\n",
       "    .dataframe tbody tr th:only-of-type {\n",
       "        vertical-align: middle;\n",
       "    }\n",
       "\n",
       "    .dataframe tbody tr th {\n",
       "        vertical-align: top;\n",
       "    }\n",
       "\n",
       "    .dataframe thead th {\n",
       "        text-align: right;\n",
       "    }\n",
       "</style>\n",
       "<table border=\"1\" class=\"dataframe\">\n",
       "  <thead>\n",
       "    <tr style=\"text-align: right;\">\n",
       "      <th></th>\n",
       "      <th>name</th>\n",
       "      <th>state</th>\n",
       "      <th>city</th>\n",
       "    </tr>\n",
       "  </thead>\n",
       "  <tbody>\n",
       "    <tr>\n",
       "      <td>0</td>\n",
       "      <td>kiran</td>\n",
       "      <td>karnataka</td>\n",
       "      <td>bangalore</td>\n",
       "    </tr>\n",
       "    <tr>\n",
       "      <td>1</td>\n",
       "      <td>karthi</td>\n",
       "      <td>AP</td>\n",
       "      <td>vizag</td>\n",
       "    </tr>\n",
       "    <tr>\n",
       "      <td>2</td>\n",
       "      <td>imam</td>\n",
       "      <td>UP</td>\n",
       "      <td>manipur</td>\n",
       "    </tr>\n",
       "    <tr>\n",
       "      <td>3</td>\n",
       "      <td>pawan</td>\n",
       "      <td>Delhi</td>\n",
       "      <td>New Delhi</td>\n",
       "    </tr>\n",
       "    <tr>\n",
       "      <td>4</td>\n",
       "      <td>maruthi</td>\n",
       "      <td>tamil</td>\n",
       "      <td>chennai</td>\n",
       "    </tr>\n",
       "  </tbody>\n",
       "</table>\n",
       "</div>"
      ],
      "text/plain": [
       "      name      state       city\n",
       "0    kiran  karnataka  bangalore\n",
       "1   karthi         AP      vizag\n",
       "2     imam         UP    manipur\n",
       "3    pawan      Delhi  New Delhi\n",
       "4  maruthi      tamil    chennai"
      ]
     },
     "execution_count": 6,
     "metadata": {},
     "output_type": "execute_result"
    }
   ],
   "source": [
    "df"
   ]
  },
  {
   "cell_type": "code",
   "execution_count": 10,
   "metadata": {},
   "outputs": [
    {
     "name": "stdout",
     "output_type": "stream",
     "text": [
      "0 name         kiran\n",
      "state    karnataka\n",
      "city     bangalore\n",
      "Name: 0, dtype: object\n",
      "\n",
      "1 name     karthi\n",
      "state        AP\n",
      "city      vizag\n",
      "Name: 1, dtype: object\n",
      "\n",
      "2 name        imam\n",
      "state         UP\n",
      "city     manipur\n",
      "Name: 2, dtype: object\n",
      "\n",
      "3 name         pawan\n",
      "state        Delhi\n",
      "city     New Delhi\n",
      "Name: 3, dtype: object\n",
      "\n",
      "4 name     maruthi\n",
      "state      tamil\n",
      "city     chennai\n",
      "Name: 4, dtype: object\n",
      "\n"
     ]
    }
   ],
   "source": [
    "#iterrows\n",
    "for i,j in df.iterrows():\n",
    "    print(i,j)\n",
    "    print()"
   ]
  },
  {
   "cell_type": "code",
   "execution_count": 11,
   "metadata": {},
   "outputs": [
    {
     "name": "stdout",
     "output_type": "stream",
     "text": [
      "name 0      kiran\n",
      "1     karthi\n",
      "2       imam\n",
      "3      pawan\n",
      "4    maruthi\n",
      "Name: name, dtype: object\n",
      "\n",
      "state 0    karnataka\n",
      "1           AP\n",
      "2           UP\n",
      "3        Delhi\n",
      "4        tamil\n",
      "Name: state, dtype: object\n",
      "\n",
      "city 0    bangalore\n",
      "1        vizag\n",
      "2      manipur\n",
      "3    New Delhi\n",
      "4      chennai\n",
      "Name: city, dtype: object\n",
      "\n"
     ]
    }
   ],
   "source": [
    "# iteritems\n",
    "for key,value in df.iteritems():\n",
    "    print(key,value)\n",
    "    print()"
   ]
  },
  {
   "cell_type": "code",
   "execution_count": 12,
   "metadata": {},
   "outputs": [
    {
     "name": "stdout",
     "output_type": "stream",
     "text": [
      "Pandas(Index=0, name='kiran', state='karnataka', city='bangalore')\n",
      "Pandas(Index=1, name='karthi', state='AP', city='vizag')\n",
      "Pandas(Index=2, name='imam', state='UP', city='manipur')\n",
      "Pandas(Index=3, name='pawan', state='Delhi', city='New Delhi')\n",
      "Pandas(Index=4, name='maruthi', state='tamil', city='chennai')\n"
     ]
    }
   ],
   "source": [
    "#itertuples() function inorder to get tuple for each row\n",
    "for i in df.itertuples():\n",
    "    print(i)"
   ]
  },
  {
   "cell_type": "markdown",
   "metadata": {},
   "source": [
    "# Iterating over Columns :\n",
    "In order to iterate over columns, we need to create a list of dataframe \n",
    "columns and then iterating through that list to pull out the dataframe columns."
   ]
  },
  {
   "cell_type": "code",
   "execution_count": 13,
   "metadata": {},
   "outputs": [],
   "source": [
    "columns=list(df)"
   ]
  },
  {
   "cell_type": "code",
   "execution_count": 14,
   "metadata": {},
   "outputs": [
    {
     "name": "stdout",
     "output_type": "stream",
     "text": [
      "karthi\n",
      "AP\n",
      "vizag\n"
     ]
    }
   ],
   "source": [
    "for i in columns:\n",
    "    print(df[i][1])"
   ]
  },
  {
   "cell_type": "code",
   "execution_count": null,
   "metadata": {},
   "outputs": [],
   "source": []
  }
 ],
 "metadata": {
  "kernelspec": {
   "display_name": "Python 3",
   "language": "python",
   "name": "python3"
  },
  "language_info": {
   "codemirror_mode": {
    "name": "ipython",
    "version": 3
   },
   "file_extension": ".py",
   "mimetype": "text/x-python",
   "name": "python",
   "nbconvert_exporter": "python",
   "pygments_lexer": "ipython3",
   "version": "3.7.4"
  }
 },
 "nbformat": 4,
 "nbformat_minor": 2
}
